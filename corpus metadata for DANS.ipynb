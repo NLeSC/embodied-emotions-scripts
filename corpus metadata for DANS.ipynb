{
 "cells": [
  {
   "cell_type": "code",
   "execution_count": 1,
   "metadata": {
    "collapsed": false
   },
   "outputs": [],
   "source": [
    "# Render our plots inline\n",
    "%matplotlib inline\n",
    "\n",
    "import pandas as pd\n",
    "import matplotlib.pyplot as plt\n",
    "import numpy as np\n",
    "import os\n",
    "\n",
    "pd.set_option('display.mpl_style', 'default') # Make the graphs a bit prettier\n",
    "plt.rcParams['figure.figsize'] = (16, 6)"
   ]
  },
  {
   "cell_type": "code",
   "execution_count": 2,
   "metadata": {
    "collapsed": true
   },
   "outputs": [],
   "source": [
    "# adjust to your local directories \n",
    "embem_data_dir = '/home/jvdzwaan/data/embem/'\n",
    "output_dir = '/home/jvdzwaan/data/tmp/'"
   ]
  },
  {
   "cell_type": "code",
   "execution_count": 36,
   "metadata": {
    "collapsed": false
   },
   "outputs": [],
   "source": [
    "# load data\n",
    "def load_data(corpus, column_names, corpus_metadata, label_counts, body_parts, emotion_bodypart_pairs):\n",
    "    c = pd.read_csv(corpus, header=None, sep='\\t', index_col=0, names=column_names)\n",
    "    md = pd.read_csv(corpus_metadata, index_col=0)\n",
    "    l = pd.read_csv(label_counts, index_col=0)\n",
    "    bp = pd.read_csv(body_parts, index_col=0)\n",
    "    ebp = pd.read_csv(emotion_bodypart_pairs, index_col=0)\n",
    "    return pd.concat([c, md, l, bp, ebp], axis=1)\n",
    "\n",
    "def do_split1(row):\n",
    "    parts = row['title+author'].split('/')\n",
    "    if len(parts) == 2:\n",
    "        return parts[0]\n",
    "    return row['title+author']\n",
    "\n",
    "def do_split2(row):\n",
    "    parts = row['title+author'].split('/')\n",
    "    if len(parts) == 2:\n",
    "        return parts[1]\n",
    "    return ''\n",
    "\n",
    "corpus_big = load_data(os.path.join(embem_data_dir, 'corpus/corpus_big.csv'), ['id', 'year', 'genre', 'title', 'authors'],\n",
    "                       os.path.join(embem_data_dir, 'dict/corpus_big_additional_metadata.csv'), \n",
    "                       os.path.join(embem_data_dir, 'dict/corpus_big_label_counts.csv'),\n",
    "                       os.path.join(embem_data_dir, 'dict/corpus_big_heem_expanded_body_parts.csv'),\n",
    "                       os.path.join(embem_data_dir, 'dict/corpus_big_emotion_bodypart_pairs.csv'))\n",
    "corpus_big['source'] = ['nederlab' for i in corpus_big.index]\n",
    "corpus_big['set'] = ['predictions' for i in corpus_big.index]\n",
    "annotation = load_data(os.path.join(embem_data_dir, 'corpus/annotation_corpus.csv'), ['id', 'year', 'genre', 'title', 'authors'],\n",
    "                       os.path.join(embem_data_dir, 'dict/annotation_additional_metadata.csv'), \n",
    "                       os.path.join(embem_data_dir, 'dict/annotation_label_counts.csv'),\n",
    "                       os.path.join(embem_data_dir, 'dict/annotation_heem_expanded_body_parts.csv'),\n",
    "                       os.path.join(embem_data_dir, 'dict/annotation_emotion_bodypart_pairs.csv'))\n",
    "annotation['source'] = ['nederlab' for i in annotation.index]\n",
    "annotation['set'] = ['annotations' for i in annotation.index]\n",
    "ceneton = load_data(os.path.join(embem_data_dir, 'corpus/ceneton.csv'), ['id', 'year', 'genre', 'title', 'authors'],\n",
    "                    os.path.join(embem_data_dir, 'dict/ceneton_additional_metadata.csv'),\n",
    "                    os.path.join(embem_data_dir, 'dict/ceneton_label_counts.csv'),\n",
    "                    os.path.join(embem_data_dir, 'dict/ceneton_heem_expanded_body_parts.csv'),\n",
    "                    os.path.join(embem_data_dir, 'dict/ceneton_emotion_bodypart_pairs.csv'))\n",
    "ceneton['source'] = ['ceneton' for i in ceneton.index]\n",
    "ceneton['set'] = ['predictions' for i in ceneton.index]\n",
    "edbo = load_data(os.path.join(embem_data_dir, 'corpus/edbo.csv'), ['id', 'year', 'genre', 'title+author'],\n",
    "                 os.path.join(embem_data_dir, 'dict/edbo_additional_metadata.csv'),\n",
    "                 os.path.join(embem_data_dir, 'dict/edbo_label_counts.csv'),\n",
    "                 os.path.join(embem_data_dir, 'dict/edbo_heem_expanded_body_parts.csv'),\n",
    "                 os.path.join(embem_data_dir, 'dict/edbo_emotion_bodypart_pairs.csv'))\n",
    "edbo['source'] = ['edbo' for i in edbo.index]\n",
    "edbo['set'] = ['predictions' for i in edbo.index]\n",
    "edbo['title'] = edbo.apply(lambda row: do_split1(row), axis=1)\n",
    "edbo['authors'] = edbo.apply(lambda row: do_split2(row), axis=1)\n",
    "\n",
    "complete = pd.concat([annotation, corpus_big, ceneton, edbo]).fillna('')\n",
    "complete[['year', 'genre', 'title', 'authors', 'source', 'set', 'period']]\n",
    "complete[['year', 'genre', 'title', 'authors', 'source', 'set', 'period']].to_csv(os.path.join(output_dir, 'corpus_metadata.csv'), encoding='utf-8', sep='\\t')"
   ]
  },
  {
   "cell_type": "code",
   "execution_count": null,
   "metadata": {
    "collapsed": true
   },
   "outputs": [],
   "source": []
  }
 ],
 "metadata": {
  "kernelspec": {
   "display_name": "Python 2",
   "language": "python",
   "name": "python2"
  },
  "language_info": {
   "codemirror_mode": {
    "name": "ipython",
    "version": 2
   },
   "file_extension": ".py",
   "mimetype": "text/x-python",
   "name": "python",
   "nbconvert_exporter": "python",
   "pygments_lexer": "ipython2",
   "version": "2.7.6"
  }
 },
 "nbformat": 4,
 "nbformat_minor": 0
}
