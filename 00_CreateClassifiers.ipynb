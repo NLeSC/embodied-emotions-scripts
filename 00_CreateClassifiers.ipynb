{
 "cells": [
  {
   "cell_type": "markdown",
   "metadata": {},
   "source": [
    "# Create Classifiers to Predict HEEM labels on Texts\n",
    "\n",
    "Use this notebook to generate the classifiers needed to predict HEEM labels for new texts. You only need to do this once. The notebook saves the classifiers on you hard disk.\n",
    "\n",
    "Usage:\n",
    "\n",
    "    %run embem/machinelearning/rakel_save_clf.py <train file> <output_dir>\n",
    "\n",
    "The train file is in `<embodied emotions data directory>/ml/all_spellingnormalized.txt` (or use `<embodied emotions data directory>/ml/all.txt` to train classifiers based on non spelling normalized data.)\n",
    "\n",
    "The classifier object is saved to `<output_dir>/classifier.pkl`\n",
    "\n",
    "Training the classifiers takes a couple of minutes."
   ]
  },
  {
   "cell_type": "code",
   "execution_count": 4,
   "metadata": {
    "collapsed": false
   },
   "outputs": [
    {
     "name": "stdout",
     "output_type": "stream",
     "text": [
      "start training\n",
      "finished training\n",
      "saved /home/jvdzwaan/data/tmp/classifier//classifier.pkl\n"
     ]
    }
   ],
   "source": [
    "%run embem/machinelearning/rakel_save_clf.py /home/jvdzwaan/data/embem/ml/all_spellingnormalized.txt /home/jvdzwaan/data/tmp/classifier/"
   ]
  }
 ],
 "metadata": {
  "kernelspec": {
   "display_name": "Python 2",
   "language": "python",
   "name": "python2"
  },
  "language_info": {
   "codemirror_mode": {
    "name": "ipython",
    "version": 2
   },
   "file_extension": ".py",
   "mimetype": "text/x-python",
   "name": "python",
   "nbconvert_exporter": "python",
   "pygments_lexer": "ipython2",
   "version": "2.7.6"
  }
 },
 "nbformat": 4,
 "nbformat_minor": 0
}
